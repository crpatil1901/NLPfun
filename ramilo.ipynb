{
 "cells": [
  {
   "cell_type": "markdown",
   "metadata": {},
   "source": [
    "# Language Model trained with MLP\n",
    "\n",
    "- Context window is 3 tokens wide.\n",
    "- Much superior to Bigram.\n",
    "- This implementation will be a character language model, i.e., given a sequence of characters, it will predict the next character in the sequence."
   ]
  },
  {
   "cell_type": "code",
   "execution_count": 60,
   "metadata": {},
   "outputs": [],
   "source": [
    "import torch\n",
    "import math\n",
    "import random\n",
    "import torch.nn.functional as F\n",
    "import matplotlib.pyplot as plt"
   ]
  },
  {
   "cell_type": "code",
   "execution_count": 61,
   "metadata": {},
   "outputs": [],
   "source": [
    "device = torch.device('cpu')"
   ]
  },
  {
   "cell_type": "markdown",
   "metadata": {},
   "source": [
    "### Load 'names.txt' Dataset"
   ]
  },
  {
   "cell_type": "code",
   "execution_count": 62,
   "metadata": {},
   "outputs": [
    {
     "name": "stdout",
     "output_type": "stream",
     "text": [
      "Total Names: 32033, emma, olivia, ava, isabella, sophia, ...\n"
     ]
    }
   ],
   "source": [
    "names = open('names.txt', 'r').read().splitlines()\n",
    "print(f\"Total Names: {len(names)}\", *names[:5], \"...\", sep=\", \")"
   ]
  },
  {
   "cell_type": "markdown",
   "metadata": {},
   "source": [
    "### Dictionaries to convert characters to int and back"
   ]
  },
  {
   "cell_type": "code",
   "execution_count": 35,
   "metadata": {},
   "outputs": [],
   "source": [
    "ctoi = {c:i for i, c in enumerate(['.'] + sorted(list(set(''.join(names)))))}\n",
    "itoc = {i:c for c, i in ctoi.items()}"
   ]
  },
  {
   "cell_type": "markdown",
   "metadata": {},
   "source": [
    "### Define Block Size\n",
    "\n",
    "It is the size of the context window. Here, 3 characters are used as it provides a good balance, according to the dataset."
   ]
  },
  {
   "cell_type": "code",
   "execution_count": 36,
   "metadata": {},
   "outputs": [],
   "source": [
    "block_size = 3"
   ]
  },
  {
   "cell_type": "markdown",
   "metadata": {},
   "source": [
    "Using a rolling window to create dataset. `.` character is used as the delimiter."
   ]
  },
  {
   "cell_type": "code",
   "execution_count": 37,
   "metadata": {},
   "outputs": [],
   "source": [
    "def build_dataset(words, block_size=block_size):\n",
    "    X = []\n",
    "    Y = []\n",
    "    for word in words:\n",
    "        context = [0] * block_size\n",
    "        for c in word + '.':\n",
    "            ci = ctoi[c]\n",
    "            X.append(context)\n",
    "            Y.append(ci)\n",
    "            # print(''.join(itoc[c] for c in context) + ' ---> ' + itoc[ci])\n",
    "            context = context[1:] + [ci]\n",
    "\n",
    "    X = torch.tensor(X, device=device)\n",
    "    Y = torch.tensor(Y, device=device)\n",
    "    return X, Y\n"
   ]
  },
  {
   "cell_type": "code",
   "execution_count": 38,
   "metadata": {},
   "outputs": [],
   "source": [
    "X, Y = build_dataset(names, block_size=block_size)"
   ]
  },
  {
   "cell_type": "code",
   "execution_count": 39,
   "metadata": {},
   "outputs": [
    {
     "data": {
      "text/plain": [
       "(torch.Size([228146, 3]), torch.Size([228146]))"
      ]
     },
     "execution_count": 39,
     "metadata": {},
     "output_type": "execute_result"
    }
   ],
   "source": [
    "X.shape, Y.shape"
   ]
  },
  {
   "cell_type": "markdown",
   "metadata": {},
   "source": [
    "### Splitting Data into Training, Validation and Testing\n",
    "\n",
    "- Training data proportion: 80%     [`Xtrn, Ytrn`]\n",
    "- Validation data proportion: 10%   [`Xdev, Ydev`]\n",
    "- Testing data proportion: 10%      [`Xtst, Ytst`]\n",
    "\n",
    "Data is shuffled to get more accurate results when testing on Xdev / Xtst"
   ]
  },
  {
   "cell_type": "code",
   "execution_count": 63,
   "metadata": {},
   "outputs": [],
   "source": [
    "trnProp = 0.8\n",
    "valProp = 0.1\n",
    "\n",
    "n1 = int(trnProp*len(names))\n",
    "n2 = int((trnProp + valProp)*len(names))\n",
    "\n",
    "random.shuffle(names)\n",
    "\n",
    "Xtrn, Ytrn = build_dataset(names[:n1])\n",
    "Xdev, Ydev = build_dataset(names[n1:n2])\n",
    "Xtst, Ytst = build_dataset(names[n2:])"
   ]
  },
  {
   "cell_type": "code",
   "execution_count": 41,
   "metadata": {},
   "outputs": [
    {
     "data": {
      "text/plain": [
       "(torch.Size([182509]), torch.Size([22875]), torch.Size([22762]))"
      ]
     },
     "execution_count": 41,
     "metadata": {},
     "output_type": "execute_result"
    }
   ],
   "source": [
    "Ytrn.shape, Ydev.shape, Ytst.shape"
   ]
  },
  {
   "cell_type": "markdown",
   "metadata": {},
   "source": [
    "### Define Hyper parameters\n",
    "- `dims`: number of dimensions used for encoding each token\n",
    "- `hidden_layer`: number of neurons in the hidden layer of the network"
   ]
  },
  {
   "cell_type": "code",
   "execution_count": 64,
   "metadata": {},
   "outputs": [],
   "source": [
    "dims = 15\n",
    "hidden_layer = 150"
   ]
  },
  {
   "cell_type": "markdown",
   "metadata": {},
   "source": [
    "### Define Model parameters\n",
    "\n",
    "- `C` : Defines the point in the n-dimensional space for each character\n",
    "  - Size: `vocab_size` x `dims`\n",
    "- `W1` : Weights for the first layer\n",
    "  - Size: `(dims * block_size)` x `hidden_layer`\n",
    "- `b1` : Bias for the first layer\n",
    "  - Size: `hidden_layer` x `1`\n",
    "- `W2` : Weights for the second layer\n",
    "  - Size: `hidden_layer` x `vocab_size`\n",
    "- `b2` : Bias for the second layer\n",
    "  - Size: `vocab_size` x `1`"
   ]
  },
  {
   "cell_type": "code",
   "execution_count": 65,
   "metadata": {},
   "outputs": [
    {
     "name": "stdout",
     "output_type": "stream",
     "text": [
      "Total Parameter: 11382\n"
     ]
    }
   ],
   "source": [
    "g = torch.Generator(device=device).manual_seed(0)\n",
    "C = torch.randn((27, dims), generator=g, device=device)\n",
    "\n",
    "W1 = torch.randn((dims*block_size, hidden_layer), generator=g, device=device)\n",
    "b1 = torch.randn(hidden_layer, generator=g, device=device)\n",
    "\n",
    "W2 = torch.randn((hidden_layer, 27), generator=g, device=device)\n",
    "b2 = torch.randn(27, generator=g, device=device)\n",
    "\n",
    "parameters = [C, W1, b1, W2, b2]\n",
    "print(f\"Total Parameter: {sum(p.nelement() for p in parameters)}\")"
   ]
  },
  {
   "cell_type": "code",
   "execution_count": 66,
   "metadata": {},
   "outputs": [],
   "source": [
    "for p in parameters:\n",
    "    p.requires_grad = True"
   ]
  },
  {
   "cell_type": "code",
   "execution_count": 45,
   "metadata": {},
   "outputs": [],
   "source": [
    "losstrn = [] # For tracking loss during training"
   ]
  },
  {
   "cell_type": "markdown",
   "metadata": {},
   "source": [
    "Function to calculate loss on given dataset"
   ]
  },
  {
   "cell_type": "code",
   "execution_count": 46,
   "metadata": {},
   "outputs": [],
   "source": [
    "def getloss(X, Y):\n",
    "    emb = C[X]\n",
    "    h = torch.tanh(emb.view((-1, block_size*dims)) @ W1 + b1)\n",
    "    logits = h @ W2 + b2\n",
    "    loss = F.cross_entropy(logits, Y)\n",
    "    return loss"
   ]
  },
  {
   "cell_type": "markdown",
   "metadata": {},
   "source": [
    "### Training\n",
    "- `nitr` : Number of iterations - Set to 600K\n",
    "- `lrs` : Array of learning rates - linear decay from 0.1 to 0.005\n",
    "- Batch size for training: 64"
   ]
  },
  {
   "cell_type": "code",
   "execution_count": 67,
   "metadata": {},
   "outputs": [],
   "source": [
    "nitr = 600000\n",
    "lrs = torch.linspace(0.1, 0.005, nitr)\n",
    "for g in range(nitr):\n",
    "    # batching\n",
    "    ix = torch.randint(0, Xtrn.shape[0], (64,))\n",
    "    # forward pass\n",
    "    emb = C[Xtrn[ix]]\n",
    "    h = torch.tanh(emb.view((-1, block_size*dims)) @ W1 + b1)\n",
    "    logits = h @ W2 + b2\n",
    "    loss = F.cross_entropy(logits, Ytrn[ix])\n",
    "    # backward pass\n",
    "    for p in parameters:\n",
    "        p.grad = None\n",
    "    loss.backward()\n",
    "    lr = lrs[g]\n",
    "    for p in parameters:\n",
    "        p.data += -lr * p.grad\n",
    "    # track stats\n",
    "    losstrn.append(loss)\n"
   ]
  },
  {
   "cell_type": "markdown",
   "metadata": {},
   "source": [
    "### Plot of log loss vs iterations"
   ]
  },
  {
   "cell_type": "code",
   "execution_count": 71,
   "metadata": {},
   "outputs": [
    {
     "data": {
      "text/plain": [
       "[<matplotlib.lines.Line2D at 0x152900d90>]"
      ]
     },
     "execution_count": 71,
     "metadata": {},
     "output_type": "execute_result"
    },
    {
     "data": {
      "image/png": "[encoded data removed]",
      "text/plain": [
       "<Figure size 640x480 with 1 Axes>"
      ]
     },
     "metadata": {},
     "output_type": "display_data"
    }
   ],
   "source": [
    "plt.plot(list(map(lambda x: x.log10().item(), losstrn)))"
   ]
  },
  {
   "cell_type": "markdown",
   "metadata": {},
   "source": [
    "### Print the loss on the training, validation and testing datasets"
   ]
  },
  {
   "cell_type": "code",
   "execution_count": 72,
   "metadata": {},
   "outputs": [
    {
     "name": "stdout",
     "output_type": "stream",
     "text": [
      "Training Loss: 2.0386807918548584\n",
      "Validation Loss: 2.129159688949585\n",
      "Testing Loss: 2.109739303588867\n"
     ]
    }
   ],
   "source": [
    "print(f\"Training Loss: {getloss(Xtrn, Ytrn).item()}\")\n",
    "print(f\"Validation Loss: {getloss(Xdev, Ydev).item()}\")\n",
    "print(f\"Testing Loss: {getloss(Xtst, Ytst).item()}\")"
   ]
  },
  {
   "cell_type": "markdown",
   "metadata": {},
   "source": [
    "### Function to generate a new word based using current model"
   ]
  },
  {
   "cell_type": "code",
   "execution_count": 73,
   "metadata": {},
   "outputs": [],
   "source": [
    "def generate():\n",
    "    op = []\n",
    "    context = [0] * block_size\n",
    "    while True:\n",
    "        emb = C[torch.tensor([context])]\n",
    "        h = torch.tanh(emb.view(1, -1) @ W1 + b1)\n",
    "        logits = h @ W2 + b2\n",
    "        probs = F.softmax(logits, dim=1)\n",
    "        # print(probs)\n",
    "        nxti = torch.multinomial(probs, num_samples=1).item()\n",
    "        if nxti == 0: return ''.join([itoc[x] for x in op])\n",
    "        context = context[1:] + [nxti]\n",
    "        op.append(nxti)"
   ]
  },
  {
   "cell_type": "markdown",
   "metadata": {},
   "source": [
    "### Generate and print 20 samples"
   ]
  },
  {
   "cell_type": "code",
   "execution_count": 74,
   "metadata": {},
   "outputs": [
    {
     "name": "stdout",
     "output_type": "stream",
     "text": [
      "aus\n",
      "mekhose\n",
      "kymchy\n",
      "brylahbobilroenelia\n",
      "clanim\n",
      "jaush\n",
      "demand\n",
      "rayah\n",
      "octte\n",
      "legancyncin\n",
      "jahliya\n",
      "miker\n",
      "sai\n",
      "aron\n",
      "tra\n",
      "tah\n",
      "quyna\n",
      "sangeovan\n",
      "jalonetzat\n",
      "mica\n"
     ]
    }
   ],
   "source": [
    "for _ in range(20): print(generate())"
   ]
  }
 ],
 "metadata": {
  "kernelspec": {
   "display_name": "Python 3",
   "language": "python",
   "name": "python3"
  },
  "language_info": {
   "codemirror_mode": {
    "name": "ipython",
    "version": 3
   },
   "file_extension": ".py",
   "mimetype": "text/x-python",
   "name": "python",
   "nbconvert_exporter": "python",
   "pygments_lexer": "ipython3",
   "version": "3.11.7"
  }
 },
 "nbformat": 4,
 "nbformat_minor": 2
}
