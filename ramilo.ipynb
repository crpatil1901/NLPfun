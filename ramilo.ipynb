{
 "cells": [
  {
   "cell_type": "markdown",
   "metadata": {},
   "source": [
    "# Language Model trained with MLP\n",
    "\n",
    "- Context window is 3 tokens wide.\n",
    "- Much superior to Bigram.\n",
    "- This implementation will be a character language model, i.e., given a sequence of characters, it will predict the next character in the sequence."
   ]
  },
  {
   "cell_type": "code",
   "execution_count": 285,
   "metadata": {},
   "outputs": [],
   "source": [
    "import torch\n",
    "import math\n",
    "import random\n",
    "import torch.nn.functional as F\n",
    "import matplotlib.pyplot as plt"
   ]
  },
  {
   "cell_type": "code",
   "execution_count": 286,
   "metadata": {},
   "outputs": [],
   "source": [
    "device = torch.device('cpu')"
   ]
  },
  {
   "cell_type": "markdown",
   "metadata": {},
   "source": [
    "### Load 'names.txt' Dataset"
   ]
  },
  {
   "cell_type": "code",
   "execution_count": 287,
   "metadata": {},
   "outputs": [
    {
     "name": "stdout",
     "output_type": "stream",
     "text": [
      "Total Names: 32033, emma, olivia, ava, isabella, sophia, ...\n"
     ]
    }
   ],
   "source": [
    "names = open('names.txt', 'r').read().splitlines()\n",
    "print(f\"Total Names: {len(names)}\", *names[:5], \"...\", sep=\", \")"
   ]
  },
  {
   "cell_type": "markdown",
   "metadata": {},
   "source": [
    "### Dictionaries to convert characters to int and back"
   ]
  },
  {
   "cell_type": "code",
   "execution_count": 288,
   "metadata": {},
   "outputs": [],
   "source": [
    "ctoi = {c:i for i, c in enumerate(['.'] + sorted(list(set(''.join(names)))))}\n",
    "itoc = {i:c for c, i in ctoi.items()}"
   ]
  },
  {
   "cell_type": "markdown",
   "metadata": {},
   "source": [
    "### Define Block Size\n",
    "\n",
    "It is the size of the context window. Here, 3 characters are used as it provides a good balance, according to the dataset."
   ]
  },
  {
   "cell_type": "code",
   "execution_count": 289,
   "metadata": {},
   "outputs": [],
   "source": [
    "block_size = 3"
   ]
  },
  {
   "cell_type": "markdown",
   "metadata": {},
   "source": [
    "Using a rolling window to create dataset. `.` character is used as the delimiter."
   ]
  },
  {
   "cell_type": "code",
   "execution_count": 290,
   "metadata": {},
   "outputs": [],
   "source": [
    "def build_dataset(words, block_size=block_size):\n",
    "    X = []\n",
    "    Y = []\n",
    "    for word in words:\n",
    "        context = [0] * block_size\n",
    "        for c in word + '.':\n",
    "            ci = ctoi[c]\n",
    "            X.append(context)\n",
    "            Y.append(ci)\n",
    "            # print(''.join(itoc[c] for c in context) + ' ---> ' + itoc[ci])\n",
    "            context = context[1:] + [ci]\n",
    "\n",
    "    X = torch.tensor(X, device=device)\n",
    "    Y = torch.tensor(Y, device=device)\n",
    "    return X, Y\n"
   ]
  },
  {
   "cell_type": "code",
   "execution_count": 291,
   "metadata": {},
   "outputs": [],
   "source": [
    "X, Y = build_dataset(names, block_size=block_size)"
   ]
  },
  {
   "cell_type": "code",
   "execution_count": 292,
   "metadata": {},
   "outputs": [
    {
     "data": {
      "text/plain": [
       "(torch.Size([228146, 3]), torch.Size([228146]))"
      ]
     },
     "execution_count": 292,
     "metadata": {},
     "output_type": "execute_result"
    }
   ],
   "source": [
    "X.shape, Y.shape"
   ]
  },
  {
   "cell_type": "markdown",
   "metadata": {},
   "source": [
    "### Splitting Data into Training, Validation and Testing\n",
    "\n",
    "- Training data proportion: 80%     [`Xtrn, Ytrn`]\n",
    "- Validation data proportion: 10%   [`Xdev, Ydev`]\n",
    "- Testing data proportion: 10%      [`Xtst, Ytst`]\n",
    "\n",
    "Data is shuffled to get more accurate results when testing on Xdev / Xtst"
   ]
  },
  {
   "cell_type": "code",
   "execution_count": 293,
   "metadata": {},
   "outputs": [],
   "source": [
    "trnProp = 0.8\n",
    "valProp = 0.1\n",
    "\n",
    "n1 = int(trnProp*len(names))\n",
    "n2 = int((trnProp + valProp)*len(names))\n",
    "\n",
    "random.shuffle(names)\n",
    "\n",
    "Xtrn, Ytrn = build_dataset(names[:n1])\n",
    "Xdev, Ydev = build_dataset(names[n1:n2])\n",
    "Xtst, Ytst = build_dataset(names[n2:])"
   ]
  },
  {
   "cell_type": "code",
   "execution_count": 294,
   "metadata": {},
   "outputs": [
    {
     "data": {
      "text/plain": [
       "(torch.Size([182501]), torch.Size([22857]), torch.Size([22788]))"
      ]
     },
     "execution_count": 294,
     "metadata": {},
     "output_type": "execute_result"
    }
   ],
   "source": [
    "Ytrn.shape, Ydev.shape, Ytst.shape"
   ]
  },
  {
   "cell_type": "markdown",
   "metadata": {},
   "source": [
    "### Define Hyper parameters\n",
    "- `dims`: number of dimensions used for encoding each token\n",
    "- `hidden_layer`: number of neurons in the hidden layer of the network"
   ]
  },
  {
   "cell_type": "code",
   "execution_count": 295,
   "metadata": {},
   "outputs": [],
   "source": [
    "dims = 15\n",
    "hidden_layer = 150"
   ]
  },
  {
   "cell_type": "markdown",
   "metadata": {},
   "source": [
    "### Define Model parameters\n",
    "\n",
    "- `C` : Defines the point in the n-dimensional space for each character\n",
    "  - Size: `vocab_size` x `dims`\n",
    "- `W1` : Weights for the first layer\n",
    "  - Size: `(dims * block_size)` x `hidden_layer`\n",
    "- `b1` : Bias for the first layer\n",
    "  - Size: `hidden_layer` x `1`\n",
    "- `W2` : Weights for the second layer\n",
    "  - Size: `hidden_layer` x `vocab_size`\n",
    "- `b2` : Bias for the second layer\n",
    "  - Size: `vocab_size` x `1`"
   ]
  },
  {
   "cell_type": "code",
   "execution_count": 296,
   "metadata": {},
   "outputs": [
    {
     "name": "stdout",
     "output_type": "stream",
     "text": [
      "Total Parameter: 11382\n"
     ]
    }
   ],
   "source": [
    "g = torch.Generator(device=device).manual_seed(0)\n",
    "C = torch.randn((27, dims),                         generator=g, device=device)\n",
    "\n",
    "W1 = torch.randn((dims*block_size, hidden_layer),   generator=g, device=device) * 0.14\n",
    "b1 = torch.randn(hidden_layer,                      generator=g, device=device) * 0.01\n",
    "\n",
    "W2 = torch.randn((hidden_layer, 27),                generator=g, device=device) * 0.01\n",
    "b2 = torch.randn(27,                                generator=g, device=device) * 0\n",
    "\n",
    "parameters = [C, W1, b1, W2, b2]\n",
    "print(f\"Total Parameter: {sum(p.nelement() for p in parameters)}\")"
   ]
  },
  {
   "cell_type": "code",
   "execution_count": 297,
   "metadata": {},
   "outputs": [],
   "source": [
    "for p in parameters:\n",
    "    p.requires_grad = True"
   ]
  },
  {
   "cell_type": "code",
   "execution_count": 298,
   "metadata": {},
   "outputs": [],
   "source": [
    "losstrn = [] # For tracking loss during training"
   ]
  },
  {
   "cell_type": "markdown",
   "metadata": {},
   "source": [
    "Function to calculate loss on given dataset"
   ]
  },
  {
   "cell_type": "code",
   "execution_count": 299,
   "metadata": {},
   "outputs": [],
   "source": [
    "@torch.no_grad\n",
    "def getloss(X, Y):\n",
    "    emb = C[X]\n",
    "    h = torch.tanh(emb.view((-1, block_size*dims)) @ W1 + b1)\n",
    "    logits = h @ W2 + b2\n",
    "    loss = F.cross_entropy(logits, Y)\n",
    "    return loss"
   ]
  },
  {
   "cell_type": "markdown",
   "metadata": {},
   "source": [
    "### Training\n",
    "- `nitr` : Number of iterations - Set to 600K\n",
    "- `lrs` : Array of learning rates - linear decay from 0.1 to 0.005\n",
    "- Batch size for training: 64"
   ]
  },
  {
   "cell_type": "code",
   "execution_count": 309,
   "metadata": {},
   "outputs": [],
   "source": [
    "nitr = 200000\n",
    "lrs = torch.linspace(0.1, 0.001, nitr)\n",
    "for g in range(nitr):\n",
    "    # batching\n",
    "    ix = torch.randint(0, Xtrn.shape[0], (64,))\n",
    "    # forward pass\n",
    "    emb = C[Xtrn[ix]]\n",
    "    h = torch.tanh(emb.view((-1, block_size*dims)) @ W1 + b1)\n",
    "    logits = h @ W2 + b2\n",
    "    loss = F.cross_entropy(logits, Ytrn[ix])\n",
    "    # backward pass\n",
    "    for p in parameters:\n",
    "        p.grad = None\n",
    "    loss.backward()\n",
    "    lr = lrs[g]\n",
    "    for p in parameters:\n",
    "        p.data += -lr * p.grad\n",
    "    # track stats\n",
    "    losstrn.append(loss)\n",
    "    # break"
   ]
  },
  {
   "cell_type": "code",
   "execution_count": 301,
   "metadata": {},
   "outputs": [
    {
     "data": {
      "text/plain": [
       "tensor([ 0.1928,  0.0733,  0.0461, -0.0350, -0.0440,  0.0172, -0.1167,  0.0031,\n",
       "        -0.1025,  0.0467,  0.0240,  0.0299, -0.0039,  0.1445,  0.0146, -0.0558,\n",
       "         0.0027,  0.0047, -0.0894, -0.1381, -0.0532,  0.0229,  0.0255,  0.0056,\n",
       "        -0.0328,  0.0074, -0.0653], grad_fn=<SelectBackward0>)"
      ]
     },
     "execution_count": 301,
     "metadata": {},
     "output_type": "execute_result"
    }
   ],
   "source": [
    "logits[0]"
   ]
  },
  {
   "cell_type": "markdown",
   "metadata": {},
   "source": [
    "### Plot of log loss vs iterations"
   ]
  },
  {
   "cell_type": "code",
   "execution_count": 310,
   "metadata": {},
   "outputs": [
    {
     "data": {
      "text/plain": [
       "[<matplotlib.lines.Line2D at 0x155d49210>]"
      ]
     },
     "execution_count": 310,
     "metadata": {},
     "output_type": "execute_result"
    },
    {
     "data": {
      "image/png": "[encoded data removed]",
      "text/plain": [
       "<Figure size 640x480 with 1 Axes>"
      ]
     },
     "metadata": {},
     "output_type": "display_data"
    }
   ],
   "source": [
    "plt.plot(list(map(lambda x: x.log10().item(), losstrn)))"
   ]
  },
  {
   "cell_type": "markdown",
   "metadata": {},
   "source": [
    "### Print the loss on the training, validation and testing datasets"
   ]
  },
  {
   "cell_type": "code",
   "execution_count": 311,
   "metadata": {},
   "outputs": [
    {
     "name": "stdout",
     "output_type": "stream",
     "text": [
      "Training Loss: 2.017284870147705\n",
      "Validation Loss: 2.103180408477783\n",
      "Testing Loss: 2.108599901199341\n"
     ]
    }
   ],
   "source": [
    "print(f\"Training Loss: {getloss(Xtrn, Ytrn).item()}\")\n",
    "print(f\"Validation Loss: {getloss(Xdev, Ydev).item()}\")\n",
    "print(f\"Testing Loss: {getloss(Xtst, Ytst).item()}\")"
   ]
  },
  {
   "cell_type": "code",
   "execution_count": 312,
   "metadata": {},
   "outputs": [
    {
     "data": {
      "text/plain": [
       "(array([2260.,  373.,  245.,  199.,  152.,  142.,  160.,  115.,  114.,\n",
       "          82.,   85.,   61.,   76.,   47.,   60.,   68.,   76.,   57.,\n",
       "          68.,   55.,   66.,   54.,   46.,   59.,   57.,   66.,   47.,\n",
       "          49.,   53.,   74.,   41.,   56.,   44.,   80.,   61.,   62.,\n",
       "          52.,   63.,   68.,   88.,  107.,  120.,  127.,  102.,  128.,\n",
       "         150.,  193.,  264.,  391., 2337.]),\n",
       " array([-1.  , -0.96, -0.92, -0.88, -0.84, -0.8 , -0.76, -0.72, -0.68,\n",
       "        -0.64, -0.6 , -0.56, -0.52, -0.48, -0.44, -0.4 , -0.36, -0.32,\n",
       "        -0.28, -0.24, -0.2 , -0.16, -0.12, -0.08, -0.04,  0.  ,  0.04,\n",
       "         0.08,  0.12,  0.16,  0.2 ,  0.24,  0.28,  0.32,  0.36,  0.4 ,\n",
       "         0.44,  0.48,  0.52,  0.56,  0.6 ,  0.64,  0.68,  0.72,  0.76,\n",
       "         0.8 ,  0.84,  0.88,  0.92,  0.96,  1.  ]),\n",
       " <BarContainer object of 50 artists>)"
      ]
     },
     "execution_count": 312,
     "metadata": {},
     "output_type": "execute_result"
    },
    {
     "data": {
      "image/png": "[encoded data removed]",
      "text/plain": [
       "<Figure size 640x480 with 1 Axes>"
      ]
     },
     "metadata": {},
     "output_type": "display_data"
    }
   ],
   "source": [
    "plt.hist(h.view(-1).tolist(), bins=50)"
   ]
  },
  {
   "cell_type": "code",
   "execution_count": 313,
   "metadata": {},
   "outputs": [
    {
     "data": {
      "text/plain": [
       "<matplotlib.image.AxesImage at 0x348f96310>"
      ]
     },
     "execution_count": 313,
     "metadata": {},
     "output_type": "execute_result"
    },
    {
     "data": {
      "image/png": "[encoded data removed]",
      "text/plain": [
       "<Figure size 640x480 with 1 Axes>"
      ]
     },
     "metadata": {},
     "output_type": "display_data"
    }
   ],
   "source": [
    "plt.imshow(h.abs() < 0.99, cmap='gray', interpolation='nearest')"
   ]
  },
  {
   "cell_type": "code",
   "execution_count": 314,
   "metadata": {},
   "outputs": [
    {
     "data": {
      "text/plain": [
       "(array([  1.,   0.,   1.,   2.,   1.,   7.,   6.,   9.,  18.,  25.,  34.,\n",
       "         38.,  76.,  73., 105., 141., 155., 183., 268., 303., 366., 419.,\n",
       "        446., 584., 686., 620., 610., 614., 621., 571., 500., 374., 349.,\n",
       "        331., 246., 215., 142., 119.,  94.,  73.,  46.,  46.,  23.,  18.,\n",
       "          9.,  10.,   9.,   4.,   5.,   4.]),\n",
       " array([-12.07770729, -11.6191757 , -11.16064411, -10.70211252,\n",
       "        -10.24358093,  -9.78504934,  -9.32651775,  -8.86798616,\n",
       "         -8.40945457,  -7.95092299,  -7.4923914 ,  -7.03385981,\n",
       "         -6.57532822,  -6.11679663,  -5.65826504,  -5.19973345,\n",
       "         -4.74120186,  -4.28267027,  -3.82413868,  -3.36560709,\n",
       "         -2.9070755 ,  -2.44854391,  -1.99001232,  -1.53148073,\n",
       "         -1.07294914,  -0.61441755,  -0.15588596,   0.30264563,\n",
       "          0.76117722,   1.21970881,   1.67824039,   2.13677198,\n",
       "          2.59530357,   3.05383516,   3.51236675,   3.97089834,\n",
       "          4.42942993,   4.88796152,   5.34649311,   5.8050247 ,\n",
       "          6.26355629,   6.72208788,   7.18061947,   7.63915106,\n",
       "          8.09768265,   8.55621424,   9.01474583,   9.47327742,\n",
       "          9.93180901,  10.3903406 ,  10.84887218]),\n",
       " <BarContainer object of 50 artists>)"
      ]
     },
     "execution_count": 314,
     "metadata": {},
     "output_type": "execute_result"
    },
    {
     "data": {
      "image/png": "[encoded data removed]",
      "text/plain": [
       "<Figure size 640x480 with 1 Axes>"
      ]
     },
     "metadata": {},
     "output_type": "display_data"
    }
   ],
   "source": [
    "plt.hist((emb.view((-1, block_size*dims)) @ W1 + b1).view(-1).tolist(), bins=50)"
   ]
  },
  {
   "cell_type": "markdown",
   "metadata": {},
   "source": [
    "### Function to generate a new word based using current model"
   ]
  },
  {
   "cell_type": "code",
   "execution_count": 307,
   "metadata": {},
   "outputs": [],
   "source": [
    "def generate():\n",
    "    op = []\n",
    "    context = [0] * block_size\n",
    "    while True:\n",
    "        emb = C[torch.tensor([context])]\n",
    "        h = torch.tanh(emb.view(1, -1) @ W1 + b1)\n",
    "        logits = h @ W2 + b2\n",
    "        probs = F.softmax(logits, dim=1)\n",
    "        # print(probs)\n",
    "        nxti = torch.multinomial(probs, num_samples=1).item()\n",
    "        if nxti == 0: return ''.join([itoc[x] for x in op])\n",
    "        context = context[1:] + [nxti]\n",
    "        op.append(nxti)"
   ]
  },
  {
   "cell_type": "markdown",
   "metadata": {},
   "source": [
    "### Generate and print 20 samples"
   ]
  },
  {
   "cell_type": "code",
   "execution_count": 308,
   "metadata": {},
   "outputs": [
    {
     "name": "stdout",
     "output_type": "stream",
     "text": [
      "fyswdjuieaqixewqxeaffrxuwrnnhozxoybpflz\n",
      "tnf\n",
      "phfzooredsp\n",
      "rbsddqrztcgauufagvholycmfdkvjn\n",
      "woqutymvshw\n",
      "ejacqbmxnrougeyjjcxkwrdexpd\n",
      "qgmjdujtqgpzntmijswtxaankhbrak\n",
      "dicomdb\n",
      "cyqxwuwylbs\n",
      "rfffvgpfstytvookxdvpmh\n",
      "eesfqejxqvpugqscctceizpmaghlhe\n",
      "ynukjzv\n",
      "fmigdwdohohzqnxmkopszxjhatbjsytazxclomjazfwtkpnvyajcmjjosetcryjvlckbadcmbmblhxcugxischxlttpgcvhipgyehibhauti\n",
      "znqnqw\n",
      "baujigtczhj\n",
      "ohegunnzjhyhlpxckgeughanwipgjjowvuyyzthlyvim\n",
      "zwfrv\n",
      "hyi\n",
      "xvgc\n",
      "ntipniorjguymmjtsbcbblebmgyuzgzshv\n"
     ]
    }
   ],
   "source": [
    "for _ in range(20): print(generate())"
   ]
  }
 ],
 "metadata": {
  "kernelspec": {
   "display_name": "Python 3",
   "language": "python",
   "name": "python3"
  },
  "language_info": {
   "codemirror_mode": {
    "name": "ipython",
    "version": 3
   },
   "file_extension": ".py",
   "mimetype": "text/x-python",
   "name": "python",
   "nbconvert_exporter": "python",
   "pygments_lexer": "ipython3",
   "version": "3.11.7"
  }
 },
 "nbformat": 4,
 "nbformat_minor": 2
}
