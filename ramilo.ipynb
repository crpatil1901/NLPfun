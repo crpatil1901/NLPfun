{
 "cells": [
  {
   "cell_type": "markdown",
   "metadata": {},
   "source": [
    "# Language Model trained with MLP\n",
    "\n",
    "- Context window is 3 tokens wide.\n",
    "- Much superior to Bigram.\n",
    "- This implementation will be a character language model, i.e., given a sequence of characters, it will predict the next character in the sequence."
   ]
  },
  {
   "cell_type": "code",
   "execution_count": 777,
   "metadata": {},
   "outputs": [],
   "source": [
    "import torch\n",
    "import math\n",
    "import random\n",
    "import torch.nn.functional as F\n",
    "import matplotlib.pyplot as plt"
   ]
  },
  {
   "cell_type": "code",
   "execution_count": 778,
   "metadata": {},
   "outputs": [],
   "source": [
    "device = torch.device('cpu')"
   ]
  },
  {
   "cell_type": "markdown",
   "metadata": {},
   "source": [
    "### Load 'names.txt' Dataset"
   ]
  },
  {
   "cell_type": "code",
   "execution_count": 779,
   "metadata": {},
   "outputs": [
    {
     "name": "stdout",
     "output_type": "stream",
     "text": [
      "Total Names: 6466, aabid, aabida, aachal, aadesh, aadil, ...\n"
     ]
    }
   ],
   "source": [
    "names = open('names_all.txt', 'r').read().splitlines()\n",
    "print(f\"Total Names: {len(names)}\", *names[:5], \"...\", sep=\", \")"
   ]
  },
  {
   "cell_type": "markdown",
   "metadata": {},
   "source": [
    "### Dictionaries to convert characters to int and back"
   ]
  },
  {
   "cell_type": "code",
   "execution_count": 780,
   "metadata": {},
   "outputs": [],
   "source": [
    "ctoi = {c:i for i, c in enumerate(['.'] + sorted(list(set(''.join(names)))))}\n",
    "itoc = {i:c for c, i in ctoi.items()}"
   ]
  },
  {
   "cell_type": "markdown",
   "metadata": {},
   "source": [
    "### Define Block Size\n",
    "\n",
    "It is the size of the context window. Here, 3 characters are used as it provides a good balance, according to the dataset."
   ]
  },
  {
   "cell_type": "code",
   "execution_count": 782,
   "metadata": {},
   "outputs": [],
   "source": [
    "block_size = 3"
   ]
  },
  {
   "cell_type": "markdown",
   "metadata": {},
   "source": [
    "Using a rolling window to create dataset. `.` character is used as the delimiter."
   ]
  },
  {
   "cell_type": "code",
   "execution_count": 783,
   "metadata": {},
   "outputs": [],
   "source": [
    "def build_dataset(words, block_size=block_size):\n",
    "    X = []\n",
    "    Y = []\n",
    "    for word in words:\n",
    "        context = [0] * block_size\n",
    "        for c in word + '.':\n",
    "            ci = ctoi[c]\n",
    "            X.append(context)\n",
    "            Y.append(ci)\n",
    "            # print(''.join(itoc[c] for c in context) + ' ---> ' + itoc[ci])\n",
    "            context = context[1:] + [ci]\n",
    "\n",
    "    X = torch.tensor(X, device=device)\n",
    "    Y = torch.tensor(Y, device=device)\n",
    "    return X, Y\n"
   ]
  },
  {
   "cell_type": "code",
   "execution_count": 784,
   "metadata": {},
   "outputs": [],
   "source": [
    "X, Y = build_dataset(names, block_size=block_size)"
   ]
  },
  {
   "cell_type": "markdown",
   "metadata": {},
   "source": [
    "### Splitting Data into Training, Validation and Testing\n",
    "\n",
    "- Training data proportion: 80%     [`Xtrn, Ytrn`]\n",
    "- Validation data proportion: 10%   [`Xdev, Ydev`]\n",
    "- Testing data proportion: 10%      [`Xtst, Ytst`]\n",
    "\n",
    "Data is shuffled to get more accurate results when testing on Xdev / Xtst"
   ]
  },
  {
   "cell_type": "code",
   "execution_count": 787,
   "metadata": {},
   "outputs": [],
   "source": [
    "trnProp = 0.8\n",
    "valProp = 0.1\n",
    "\n",
    "n1 = int(trnProp*len(names))\n",
    "n2 = int((trnProp + valProp)*len(names))\n",
    "\n",
    "random.shuffle(names)\n",
    "\n",
    "Xtrn, Ytrn = build_dataset(names[:n1])\n",
    "Xdev, Ydev = build_dataset(names[n1:n2])\n",
    "Xtst, Ytst = build_dataset(names[n2:])"
   ]
  },
  {
   "cell_type": "code",
   "execution_count": 788,
   "metadata": {},
   "outputs": [
    {
     "data": {
      "text/plain": [
       "(torch.Size([38153]), torch.Size([4683]), torch.Size([4735]))"
      ]
     },
     "execution_count": 788,
     "metadata": {},
     "output_type": "execute_result"
    }
   ],
   "source": [
    "Ytrn.shape, Ydev.shape, Ytst.shape"
   ]
  },
  {
   "cell_type": "markdown",
   "metadata": {},
   "source": [
    "### Define Hyper parameters\n",
    "- `dims`: number of dimensions used for encoding each token\n",
    "- `hidden_layer`: number of neurons in the hidden layer of the network"
   ]
  },
  {
   "cell_type": "code",
   "execution_count": 804,
   "metadata": {},
   "outputs": [],
   "source": [
    "dims = 15\n",
    "hidden_layer = 150\n",
    "# dims = 5\n",
    "# hidden_layer = 100"
   ]
  },
  {
   "cell_type": "markdown",
   "metadata": {},
   "source": [
    "### Define Model parameters\n",
    "\n",
    "- `C` : Defines the point in the n-dimensional space for each character\n",
    "  - Size: `vocab_size` x `dims`\n",
    "- `W1` : Weights for the first layer\n",
    "  - Size: `(dims * block_size)` x `hidden_layer`\n",
    "- `b1` : Bias for the first layer\n",
    "  - Size: `hidden_layer` x `1`\n",
    "- `W2` : Weights for the second layer\n",
    "  - Size: `hidden_layer` x `vocab_size`\n",
    "- `b2` : Bias for the second layer\n",
    "  - Size: `vocab_size` x `1`"
   ]
  },
  {
   "cell_type": "code",
   "execution_count": 805,
   "metadata": {},
   "outputs": [],
   "source": [
    "tanh_gain = 5/3\n",
    "std = tanh_gain / (dims*block_size)**0.5"
   ]
  },
  {
   "cell_type": "code",
   "execution_count": 806,
   "metadata": {},
   "outputs": [
    {
     "name": "stdout",
     "output_type": "stream",
     "text": [
      "Total Parameter: 11682\n"
     ]
    }
   ],
   "source": [
    "g = torch.Generator(device=device).manual_seed(0)\n",
    "C = torch.randn((27, dims),                         generator=g, device=device)\n",
    "\n",
    "W1 = torch.randn((dims*block_size, hidden_layer),   generator=g, device=device) * std\n",
    "b1 = torch.randn(hidden_layer,                      generator=g, device=device) * 0.01\n",
    "\n",
    "W2 = torch.randn((hidden_layer, 27),                generator=g, device=device) * 0.01\n",
    "b2 = torch.randn(27,                                generator=g, device=device) * 0\n",
    "\n",
    "bngain = torch.ones((1, hidden_layer))\n",
    "bnbias = torch.zeros((1, hidden_layer))\n",
    "\n",
    "parameters = [C, W1, b1, W2, b2, bngain, bnbias]\n",
    "print(f\"Total Parameter: {sum(p.nelement() for p in parameters)}\")"
   ]
  },
  {
   "cell_type": "code",
   "execution_count": 807,
   "metadata": {},
   "outputs": [],
   "source": [
    "for p in parameters:\n",
    "    p.requires_grad = True"
   ]
  },
  {
   "cell_type": "code",
   "execution_count": 808,
   "metadata": {},
   "outputs": [],
   "source": [
    "losstrn = [] # For tracking loss during training"
   ]
  },
  {
   "cell_type": "markdown",
   "metadata": {},
   "source": [
    "Function to calculate loss on given dataset"
   ]
  },
  {
   "cell_type": "code",
   "execution_count": 809,
   "metadata": {},
   "outputs": [],
   "source": [
    "@torch.no_grad\n",
    "def getloss(X, Y):\n",
    "    emb = C[X]\n",
    "    hpreact = emb.view((-1, block_size*dims)) @ W1 + b1\n",
    "    hpreact = (hpreact - hpreact.mean(0, keepdims=True)) / hpreact.std(0, keepdims=True)  # BatchNorm\n",
    "    hpreact = (hpreact * bngain) + bnbias\n",
    "    h = torch.tanh(hpreact)\n",
    "    logits = h @ W2 + b2\n",
    "    loss = F.cross_entropy(logits, Y)\n",
    "    return loss"
   ]
  },
  {
   "cell_type": "markdown",
   "metadata": {},
   "source": [
    "### Training\n",
    "- `nitr` : Number of iterations - Set to 600K\n",
    "- `lrs` : Array of learning rates - linear decay from 0.1 to 0.005\n",
    "- Batch size for training: 64"
   ]
  },
  {
   "cell_type": "code",
   "execution_count": 810,
   "metadata": {},
   "outputs": [],
   "source": [
    "nitr = 200000\n",
    "# nitr = 40000\n",
    "lrs = torch.linspace(0.1, 0.001, nitr)\n",
    "for g in range(nitr):\n",
    "    # batching\n",
    "    ix = torch.randint(0, Xtrn.shape[0], (64,))\n",
    "    # forward pass\n",
    "    emb = C[Xtrn[ix]]\n",
    "    hpreact = emb.view((-1, block_size*dims)) @ W1 + b1\n",
    "    hpreact = (hpreact - hpreact.mean(0, keepdims=True)) / hpreact.std(0, keepdims=True)  # BatchNorm\n",
    "    hpreact = (hpreact * bngain) + bnbias\n",
    "    h = torch.tanh(hpreact)\n",
    "    logits = h @ W2 + b2\n",
    "    loss = F.cross_entropy(logits, Ytrn[ix])\n",
    "    # backward pass\n",
    "    for p in parameters:\n",
    "        p.grad = None\n",
    "    loss.backward()\n",
    "    lr = lrs[g]\n",
    "    for p in parameters:\n",
    "        p.data += -lr * p.grad\n",
    "    # track stats\n",
    "    losstrn.append(loss)"
   ]
  },
  {
   "cell_type": "code",
   "execution_count": 811,
   "metadata": {},
   "outputs": [
    {
     "data": {
      "text/plain": [
       "tensor([ 3.9400,  3.3275, -2.5974, -1.0615, -0.2580,  3.0545, -3.0081, -1.0415,\n",
       "        -0.0888,  4.6072, -0.8110,  1.3060, -0.5910, -0.9733,  1.7101, -1.7443,\n",
       "         1.4015, -2.9945,  0.7622, -0.8443, -0.7517,  0.9157,  0.1587,  1.1281,\n",
       "        -3.1552,  2.6386, -5.4302], grad_fn=<SelectBackward0>)"
      ]
     },
     "execution_count": 811,
     "metadata": {},
     "output_type": "execute_result"
    }
   ],
   "source": [
    "logits[0]"
   ]
  },
  {
   "cell_type": "markdown",
   "metadata": {},
   "source": [
    "### Plot of log loss vs iterations"
   ]
  },
  {
   "cell_type": "code",
   "execution_count": 797,
   "metadata": {},
   "outputs": [
    {
     "data": {
      "text/plain": [
       "[<matplotlib.lines.Line2D at 0x2e8329490>]"
      ]
     },
     "execution_count": 797,
     "metadata": {},
     "output_type": "execute_result"
    },
    {
     "data": {
      "image/png": "[encoded data removed]",
      "text/plain": [
       "<Figure size 640x480 with 1 Axes>"
      ]
     },
     "metadata": {},
     "output_type": "display_data"
    }
   ],
   "source": [
    "plt.plot(list(map(lambda x: x.log10().item(), losstrn)))"
   ]
  },
  {
   "cell_type": "markdown",
   "metadata": {},
   "source": [
    "### Print the loss on the training, validation and testing datasets"
   ]
  },
  {
   "cell_type": "code",
   "execution_count": 798,
   "metadata": {},
   "outputs": [
    {
     "name": "stdout",
     "output_type": "stream",
     "text": [
      "Training Loss: 2.0623245239257812\n",
      "Validation Loss: 2.119180917739868\n",
      "Testing Loss: 2.1295719146728516\n"
     ]
    }
   ],
   "source": [
    "print(f\"Training Loss: {getloss(Xtrn, Ytrn).item()}\")\n",
    "print(f\"Validation Loss: {getloss(Xdev, Ydev).item()}\")\n",
    "print(f\"Testing Loss: {getloss(Xtst, Ytst).item()}\")"
   ]
  },
  {
   "cell_type": "code",
   "execution_count": 799,
   "metadata": {},
   "outputs": [
    {
     "data": {
      "text/plain": [
       "(array([717., 330., 225., 196., 165., 108., 119., 138., 110.,  77.,  96.,\n",
       "         96.,  90.,  73.,  74.,  88.,  61.,  66.,  70.,  39.,  59.,  61.,\n",
       "         61.,  74.,  58.,  81.,  60.,  69.,  65.,  59.,  52.,  66.,  52.,\n",
       "         79.,  57.,  64.,  69.,  76.,  76.,  95.,  98.,  86., 132., 143.,\n",
       "        121., 221., 153., 203., 317., 655.]),\n",
       " array([-9.99988794e-01, -9.59989110e-01, -9.19989426e-01, -8.79989742e-01,\n",
       "        -8.39990058e-01, -7.99990374e-01, -7.59990690e-01, -7.19991006e-01,\n",
       "        -6.79991322e-01, -6.39991637e-01, -5.99991953e-01, -5.59992269e-01,\n",
       "        -5.19992585e-01, -4.79992901e-01, -4.39993217e-01, -3.99993533e-01,\n",
       "        -3.59993849e-01, -3.19994165e-01, -2.79994481e-01, -2.39994797e-01,\n",
       "        -1.99995112e-01, -1.59995428e-01, -1.19995744e-01, -7.99960601e-02,\n",
       "        -3.99963760e-02,  3.30805779e-06,  4.00029922e-02,  8.00026762e-02,\n",
       "         1.20002360e-01,  1.60002044e-01,  2.00001729e-01,  2.40001413e-01,\n",
       "         2.80001097e-01,  3.20000781e-01,  3.60000465e-01,  4.00000149e-01,\n",
       "         4.39999833e-01,  4.79999517e-01,  5.19999201e-01,  5.59998885e-01,\n",
       "         5.99998569e-01,  6.39998254e-01,  6.79997938e-01,  7.19997622e-01,\n",
       "         7.59997306e-01,  7.99996990e-01,  8.39996674e-01,  8.79996358e-01,\n",
       "         9.19996042e-01,  9.59995726e-01,  9.99995410e-01]),\n",
       " <BarContainer object of 50 artists>)"
      ]
     },
     "execution_count": 799,
     "metadata": {},
     "output_type": "execute_result"
    },
    {
     "data": {
      "image/png": "[encoded data removed]",
      "text/plain": [
       "<Figure size 640x480 with 1 Axes>"
      ]
     },
     "metadata": {},
     "output_type": "display_data"
    }
   ],
   "source": [
    "plt.hist(h.view(-1).tolist(), bins=50)"
   ]
  },
  {
   "cell_type": "code",
   "execution_count": 800,
   "metadata": {},
   "outputs": [
    {
     "data": {
      "text/plain": [
       "<matplotlib.image.AxesImage at 0x34bc0add0>"
      ]
     },
     "execution_count": 800,
     "metadata": {},
     "output_type": "execute_result"
    },
    {
     "data": {
      "image/png": "[encoded data removed]",
      "text/plain": [
       "<Figure size 640x480 with 1 Axes>"
      ]
     },
     "metadata": {},
     "output_type": "display_data"
    }
   ],
   "source": [
    "plt.imshow(h.abs() < 0.99, cmap='gray', interpolation='nearest')"
   ]
  },
  {
   "cell_type": "code",
   "execution_count": 801,
   "metadata": {},
   "outputs": [
    {
     "data": {
      "text/plain": [
       "(array([  1.,   2.,   4.,   3.,   7.,   8.,   3.,  15.,  21.,  26.,  36.,\n",
       "         54.,  53.,  86.,  81., 139., 156., 171., 239., 235., 309., 336.,\n",
       "        355., 340., 367., 317., 386., 332., 374., 303., 247., 223., 223.,\n",
       "        159., 161., 126., 103., 108.,  98.,  59.,  47.,  22.,  13.,  18.,\n",
       "         18.,   6.,   3.,   3.,   2.,   2.]),\n",
       " array([-6.72480202, -6.45783569, -6.19086937, -5.92390305, -5.65693672,\n",
       "        -5.3899704 , -5.12300407, -4.85603775, -4.58907143, -4.3221051 ,\n",
       "        -4.05513878, -3.78817245, -3.52120613, -3.25423981, -2.98727348,\n",
       "        -2.72030716, -2.45334084, -2.18637451, -1.91940819, -1.65244186,\n",
       "        -1.38547554, -1.11850922, -0.85154289, -0.58457657, -0.31761024,\n",
       "        -0.05064392,  0.2163224 ,  0.48328873,  0.75025505,  1.01722137,\n",
       "         1.2841877 ,  1.55115402,  1.81812035,  2.08508667,  2.35205299,\n",
       "         2.61901932,  2.88598564,  3.15295197,  3.41991829,  3.68688461,\n",
       "         3.95385094,  4.22081726,  4.48778358,  4.75474991,  5.02171623,\n",
       "         5.28868256,  5.55564888,  5.8226152 ,  6.08958153,  6.35654785,\n",
       "         6.62351418]),\n",
       " <BarContainer object of 50 artists>)"
      ]
     },
     "execution_count": 801,
     "metadata": {},
     "output_type": "execute_result"
    },
    {
     "data": {
      "image/png": "[encoded data removed]",
      "text/plain": [
       "<Figure size 640x480 with 1 Axes>"
      ]
     },
     "metadata": {},
     "output_type": "display_data"
    }
   ],
   "source": [
    "plt.hist((emb.view((-1, block_size*dims)) @ W1 + b1).view(-1).tolist(), bins=50)"
   ]
  },
  {
   "cell_type": "markdown",
   "metadata": {},
   "source": [
    "### Function to generate a new word based using current model"
   ]
  },
  {
   "cell_type": "code",
   "execution_count": 802,
   "metadata": {},
   "outputs": [],
   "source": [
    "@torch.no_grad\n",
    "def generate():\n",
    "    op = []\n",
    "    context = [0] * block_size\n",
    "    while True:\n",
    "        emb = C[torch.tensor([context])]\n",
    "        hpreact = emb.view((1, -1)) @ W1 + b1\n",
    "        hpreact = (hpreact - hpreact.mean(0, keepdims=True)) / hpreact.std(0, keepdims=True)\n",
    "        hpreact = (hpreact * bngain) + bnbias\n",
    "        h = torch.tanh(hpreact)\n",
    "        h = torch.tanh(emb.view(1, -1) @ W1 + b1)\n",
    "        logits = h @ W2 + b2\n",
    "        probs = F.softmax(logits, dim=1)\n",
    "        # print(probs)\n",
    "        nxti = torch.multinomial(probs, num_samples=1).item()\n",
    "        if nxti == 0: return ''.join([itoc[x] for x in op])\n",
    "        context = context[1:] + [nxti]\n",
    "        op.append(nxti)"
   ]
  },
  {
   "cell_type": "markdown",
   "metadata": {},
   "source": [
    "### Generate and print 20 samples"
   ]
  },
  {
   "cell_type": "code",
   "execution_count": null,
   "metadata": {},
   "outputs": [],
   "source": [
    "for _ in range(20): print(generate())"
   ]
  }
 ],
 "metadata": {
  "kernelspec": {
   "display_name": "Python 3",
   "language": "python",
   "name": "python3"
  },
  "language_info": {
   "codemirror_mode": {
    "name": "ipython",
    "version": 3
   },
   "file_extension": ".py",
   "mimetype": "text/x-python",
   "name": "python",
   "nbconvert_exporter": "python",
   "pygments_lexer": "ipython3",
   "version": "3.11.7"
  }
 },
 "nbformat": 4,
 "nbformat_minor": 2
}
