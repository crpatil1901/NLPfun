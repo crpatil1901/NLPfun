{
 "cells": [
  {
   "cell_type": "markdown",
   "metadata": {},
   "source": [
    "# Language Model trained with MLP\n",
    "\n",
    "- Context window is 3 tokens wide.\n",
    "- Much superior to Bigram.\n",
    "- This implementation will be a character language model, i.e., given a sequence of characters, it will predict the next character in the sequence."
   ]
  },
  {
   "cell_type": "code",
   "execution_count": 378,
   "metadata": {},
   "outputs": [],
   "source": [
    "import torch\n",
    "import math\n",
    "import random\n",
    "import torch.nn.functional as F\n",
    "import matplotlib.pyplot as plt"
   ]
  },
  {
   "cell_type": "code",
   "execution_count": 379,
   "metadata": {},
   "outputs": [],
   "source": [
    "device = torch.device('cpu')"
   ]
  },
  {
   "cell_type": "markdown",
   "metadata": {},
   "source": [
    "### Load 'names.txt' Dataset"
   ]
  },
  {
   "cell_type": "code",
   "execution_count": 380,
   "metadata": {},
   "outputs": [
    {
     "name": "stdout",
     "output_type": "stream",
     "text": [
      "Total Names: 32033, emma, olivia, ava, isabella, sophia, ...\n"
     ]
    }
   ],
   "source": [
    "names = open('names.txt', 'r').read().splitlines()\n",
    "print(f\"Total Names: {len(names)}\", *names[:5], \"...\", sep=\", \")"
   ]
  },
  {
   "cell_type": "markdown",
   "metadata": {},
   "source": [
    "### Dictionaries to convert characters to int and back"
   ]
  },
  {
   "cell_type": "code",
   "execution_count": 381,
   "metadata": {},
   "outputs": [],
   "source": [
    "ctoi = {c:i for i, c in enumerate(['.'] + sorted(list(set(''.join(names)))))}\n",
    "itoc = {i:c for c, i in ctoi.items()}"
   ]
  },
  {
   "cell_type": "markdown",
   "metadata": {},
   "source": [
    "### Define Block Size\n",
    "\n",
    "It is the size of the context window. Here, 3 characters are used as it provides a good balance, according to the dataset."
   ]
  },
  {
   "cell_type": "code",
   "execution_count": 382,
   "metadata": {},
   "outputs": [],
   "source": [
    "block_size = 3"
   ]
  },
  {
   "cell_type": "markdown",
   "metadata": {},
   "source": [
    "Using a rolling window to create dataset. `.` character is used as the delimiter."
   ]
  },
  {
   "cell_type": "code",
   "execution_count": 383,
   "metadata": {},
   "outputs": [],
   "source": [
    "def build_dataset(words, block_size=block_size):\n",
    "    X = []\n",
    "    Y = []\n",
    "    for word in words:\n",
    "        context = [0] * block_size\n",
    "        for c in word + '.':\n",
    "            ci = ctoi[c]\n",
    "            X.append(context)\n",
    "            Y.append(ci)\n",
    "            # print(''.join(itoc[c] for c in context) + ' ---> ' + itoc[ci])\n",
    "            context = context[1:] + [ci]\n",
    "\n",
    "    X = torch.tensor(X, device=device)\n",
    "    Y = torch.tensor(Y, device=device)\n",
    "    return X, Y\n"
   ]
  },
  {
   "cell_type": "code",
   "execution_count": 384,
   "metadata": {},
   "outputs": [],
   "source": [
    "X, Y = build_dataset(names, block_size=block_size)"
   ]
  },
  {
   "cell_type": "code",
   "execution_count": 385,
   "metadata": {},
   "outputs": [
    {
     "data": {
      "text/plain": [
       "(torch.Size([228146, 3]), torch.Size([228146]))"
      ]
     },
     "execution_count": 385,
     "metadata": {},
     "output_type": "execute_result"
    }
   ],
   "source": [
    "X.shape, Y.shape"
   ]
  },
  {
   "cell_type": "markdown",
   "metadata": {},
   "source": [
    "### Splitting Data into Training, Validation and Testing\n",
    "\n",
    "- Training data proportion: 80%     [`Xtrn, Ytrn`]\n",
    "- Validation data proportion: 10%   [`Xdev, Ydev`]\n",
    "- Testing data proportion: 10%      [`Xtst, Ytst`]\n",
    "\n",
    "Data is shuffled to get more accurate results when testing on Xdev / Xtst"
   ]
  },
  {
   "cell_type": "code",
   "execution_count": 386,
   "metadata": {},
   "outputs": [],
   "source": [
    "trnProp = 0.8\n",
    "valProp = 0.1\n",
    "\n",
    "n1 = int(trnProp*len(names))\n",
    "n2 = int((trnProp + valProp)*len(names))\n",
    "\n",
    "random.shuffle(names)\n",
    "\n",
    "Xtrn, Ytrn = build_dataset(names[:n1])\n",
    "Xdev, Ydev = build_dataset(names[n1:n2])\n",
    "Xtst, Ytst = build_dataset(names[n2:])"
   ]
  },
  {
   "cell_type": "code",
   "execution_count": 387,
   "metadata": {},
   "outputs": [
    {
     "data": {
      "text/plain": [
       "(torch.Size([182474]), torch.Size([22823]), torch.Size([22849]))"
      ]
     },
     "execution_count": 387,
     "metadata": {},
     "output_type": "execute_result"
    }
   ],
   "source": [
    "Ytrn.shape, Ydev.shape, Ytst.shape"
   ]
  },
  {
   "cell_type": "markdown",
   "metadata": {},
   "source": [
    "### Define Hyper parameters\n",
    "- `dims`: number of dimensions used for encoding each token\n",
    "- `hidden_layer`: number of neurons in the hidden layer of the network"
   ]
  },
  {
   "cell_type": "code",
   "execution_count": 388,
   "metadata": {},
   "outputs": [],
   "source": [
    "dims = 15\n",
    "hidden_layer = 150"
   ]
  },
  {
   "cell_type": "markdown",
   "metadata": {},
   "source": [
    "### Define Model parameters\n",
    "\n",
    "- `C` : Defines the point in the n-dimensional space for each character\n",
    "  - Size: `vocab_size` x `dims`\n",
    "- `W1` : Weights for the first layer\n",
    "  - Size: `(dims * block_size)` x `hidden_layer`\n",
    "- `b1` : Bias for the first layer\n",
    "  - Size: `hidden_layer` x `1`\n",
    "- `W2` : Weights for the second layer\n",
    "  - Size: `hidden_layer` x `vocab_size`\n",
    "- `b2` : Bias for the second layer\n",
    "  - Size: `vocab_size` x `1`"
   ]
  },
  {
   "cell_type": "code",
   "execution_count": 389,
   "metadata": {},
   "outputs": [],
   "source": [
    "tanh_gain = 5/3\n",
    "std = tanh_gain / (dims*block_size)**0.5"
   ]
  },
  {
   "cell_type": "code",
   "execution_count": 390,
   "metadata": {},
   "outputs": [
    {
     "name": "stdout",
     "output_type": "stream",
     "text": [
      "Total Parameter: 11682\n"
     ]
    }
   ],
   "source": [
    "g = torch.Generator(device=device).manual_seed(0)\n",
    "C = torch.randn((27, dims),                         generator=g, device=device)\n",
    "\n",
    "W1 = torch.randn((dims*block_size, hidden_layer),   generator=g, device=device) * std\n",
    "b1 = torch.randn(hidden_layer,                      generator=g, device=device) * 0.01\n",
    "\n",
    "W2 = torch.randn((hidden_layer, 27),                generator=g, device=device) * 0.01\n",
    "b2 = torch.randn(27,                                generator=g, device=device) * 0\n",
    "\n",
    "bngain = torch.ones((1, hidden_layer))\n",
    "bnbias = torch.zeros((1, hidden_layer))\n",
    "\n",
    "parameters = [C, W1, b1, W2, b2, bngain, bnbias]\n",
    "print(f\"Total Parameter: {sum(p.nelement() for p in parameters)}\")"
   ]
  },
  {
   "cell_type": "code",
   "execution_count": 391,
   "metadata": {},
   "outputs": [],
   "source": [
    "for p in parameters:\n",
    "    p.requires_grad = True"
   ]
  },
  {
   "cell_type": "code",
   "execution_count": 392,
   "metadata": {},
   "outputs": [],
   "source": [
    "losstrn = [] # For tracking loss during training"
   ]
  },
  {
   "cell_type": "markdown",
   "metadata": {},
   "source": [
    "Function to calculate loss on given dataset"
   ]
  },
  {
   "cell_type": "code",
   "execution_count": 393,
   "metadata": {},
   "outputs": [],
   "source": [
    "@torch.no_grad\n",
    "def getloss(X, Y):\n",
    "    emb = C[X]\n",
    "    hpreact = emb.view((-1, block_size*dims)) @ W1 + b1\n",
    "    hpreact = (hpreact - hpreact.mean(0, keepdims=True)) / hpreact.std(0, keepdims=True)  # BatchNorm\n",
    "    hpreact = (hpreact * bngain) + bnbias\n",
    "    h = torch.tanh(hpreact)\n",
    "    logits = h @ W2 + b2\n",
    "    loss = F.cross_entropy(logits, Y)\n",
    "    return loss"
   ]
  },
  {
   "cell_type": "markdown",
   "metadata": {},
   "source": [
    "### Training\n",
    "- `nitr` : Number of iterations - Set to 600K\n",
    "- `lrs` : Array of learning rates - linear decay from 0.1 to 0.005\n",
    "- Batch size for training: 64"
   ]
  },
  {
   "cell_type": "code",
   "execution_count": 394,
   "metadata": {},
   "outputs": [],
   "source": [
    "nitr = 200000\n",
    "lrs = torch.linspace(0.1, 0.001, nitr)\n",
    "for g in range(nitr):\n",
    "    # batching\n",
    "    ix = torch.randint(0, Xtrn.shape[0], (64,))\n",
    "    # forward pass\n",
    "    emb = C[Xtrn[ix]]\n",
    "    hpreact = emb.view((-1, block_size*dims)) @ W1 + b1\n",
    "    hpreact = (hpreact - hpreact.mean(0, keepdims=True)) / hpreact.std(0, keepdims=True)  # BatchNorm\n",
    "    hpreact = (hpreact * bngain) + bnbias\n",
    "    h = torch.tanh(hpreact)\n",
    "    logits = h @ W2 + b2\n",
    "    loss = F.cross_entropy(logits, Ytrn[ix])\n",
    "    # backward pass\n",
    "    for p in parameters:\n",
    "        p.grad = None\n",
    "    loss.backward()\n",
    "    lr = lrs[g]\n",
    "    for p in parameters:\n",
    "        p.data += -lr * p.grad\n",
    "    # track stats\n",
    "    losstrn.append(loss)"
   ]
  },
  {
   "cell_type": "code",
   "execution_count": 395,
   "metadata": {},
   "outputs": [
    {
     "data": {
      "text/plain": [
       "tensor([ 4.3231, -0.9866,  0.6320,  0.0937,  0.8361,  1.0694, -2.3175,  0.8883,\n",
       "         1.3552,  0.8113, -0.3310, -0.3902,  2.9799, -0.0849,  1.9487, -0.8424,\n",
       "        -1.2895, -2.9454,  1.6668, -0.6038,  0.3606, -1.8200,  1.8469, -4.8747,\n",
       "        -2.3866,  2.7360, -2.7586], grad_fn=<SelectBackward0>)"
      ]
     },
     "execution_count": 395,
     "metadata": {},
     "output_type": "execute_result"
    }
   ],
   "source": [
    "logits[0]"
   ]
  },
  {
   "cell_type": "markdown",
   "metadata": {},
   "source": [
    "### Plot of log loss vs iterations"
   ]
  },
  {
   "cell_type": "code",
   "execution_count": 396,
   "metadata": {},
   "outputs": [
    {
     "data": {
      "text/plain": [
       "[<matplotlib.lines.Line2D at 0x34dc95c50>]"
      ]
     },
     "execution_count": 396,
     "metadata": {},
     "output_type": "execute_result"
    },
    {
     "data": {
      "image/png": "[encoded data removed]",
      "text/plain": [
       "<Figure size 640x480 with 1 Axes>"
      ]
     },
     "metadata": {},
     "output_type": "display_data"
    }
   ],
   "source": [
    "plt.plot(list(map(lambda x: x.log10().item(), losstrn)))"
   ]
  },
  {
   "cell_type": "markdown",
   "metadata": {},
   "source": [
    "### Print the loss on the training, validation and testing datasets"
   ]
  },
  {
   "cell_type": "code",
   "execution_count": 397,
   "metadata": {},
   "outputs": [
    {
     "name": "stdout",
     "output_type": "stream",
     "text": [
      "Training Loss: 2.036288261413574\n",
      "Validation Loss: 2.0913302898406982\n",
      "Testing Loss: 2.11007022857666\n"
     ]
    }
   ],
   "source": [
    "print(f\"Training Loss: {getloss(Xtrn, Ytrn).item()}\")\n",
    "print(f\"Validation Loss: {getloss(Xdev, Ydev).item()}\")\n",
    "print(f\"Testing Loss: {getloss(Xtst, Ytst).item()}\")"
   ]
  },
  {
   "cell_type": "code",
   "execution_count": 398,
   "metadata": {},
   "outputs": [
    {
     "data": {
      "text/plain": [
       "(array([1299.,  371.,  307.,  292.,  189.,  220.,  216.,  212.,  158.,\n",
       "         174.,  112.,  127.,   93.,  103.,   96.,   87.,  118.,  106.,\n",
       "          81.,   88.,   57.,   81.,   71.,   90.,   96.,   87.,   69.,\n",
       "          67.,   85.,   83.,   68.,  103.,   99.,  123.,  122.,  107.,\n",
       "         122.,  159.,  120.,  146.,  166.,  184.,  114.,  173.,  222.,\n",
       "         258.,  292.,  290.,  413., 1084.]),\n",
       " array([-9.99998868e-01, -9.59998950e-01, -9.19999032e-01, -8.79999114e-01,\n",
       "        -8.39999197e-01, -7.99999279e-01, -7.59999361e-01, -7.19999443e-01,\n",
       "        -6.79999526e-01, -6.39999608e-01, -5.99999690e-01, -5.59999772e-01,\n",
       "        -5.19999855e-01, -4.79999937e-01, -4.40000019e-01, -4.00000101e-01,\n",
       "        -3.60000184e-01, -3.20000266e-01, -2.80000348e-01, -2.40000430e-01,\n",
       "        -2.00000513e-01, -1.60000595e-01, -1.20000677e-01, -8.00007594e-02,\n",
       "        -4.00008416e-02, -9.23871994e-07,  3.99989939e-02,  7.99989116e-02,\n",
       "         1.19998829e-01,  1.59998747e-01,  1.99998665e-01,  2.39998583e-01,\n",
       "         2.79998500e-01,  3.19998418e-01,  3.59998336e-01,  3.99998254e-01,\n",
       "         4.39998171e-01,  4.79998089e-01,  5.19998007e-01,  5.59997925e-01,\n",
       "         5.99997842e-01,  6.39997760e-01,  6.79997678e-01,  7.19997596e-01,\n",
       "         7.59997513e-01,  7.99997431e-01,  8.39997349e-01,  8.79997267e-01,\n",
       "         9.19997184e-01,  9.59997102e-01,  9.99997020e-01]),\n",
       " <BarContainer object of 50 artists>)"
      ]
     },
     "execution_count": 398,
     "metadata": {},
     "output_type": "execute_result"
    },
    {
     "data": {
      "image/png": "[encoded data removed]",
      "text/plain": [
       "<Figure size 640x480 with 1 Axes>"
      ]
     },
     "metadata": {},
     "output_type": "display_data"
    }
   ],
   "source": [
    "plt.hist(h.view(-1).tolist(), bins=50)"
   ]
  },
  {
   "cell_type": "code",
   "execution_count": 399,
   "metadata": {},
   "outputs": [
    {
     "data": {
      "text/plain": [
       "<matplotlib.image.AxesImage at 0x3a4ab9550>"
      ]
     },
     "execution_count": 399,
     "metadata": {},
     "output_type": "execute_result"
    },
    {
     "data": {
      "image/png": "[encoded data removed]",
      "text/plain": [
       "<Figure size 640x480 with 1 Axes>"
      ]
     },
     "metadata": {},
     "output_type": "display_data"
    }
   ],
   "source": [
    "plt.imshow(h.abs() < 0.99, cmap='gray', interpolation='nearest')"
   ]
  },
  {
   "cell_type": "code",
   "execution_count": 400,
   "metadata": {},
   "outputs": [
    {
     "data": {
      "text/plain": [
       "(array([  1.,   0.,   0.,   0.,   2.,   0.,   2.,   9.,   6.,  11.,  22.,\n",
       "         28.,  30.,  50.,  72.,  86., 100., 167., 198., 254., 293., 454.,\n",
       "        477., 521., 584., 579., 504., 567., 603., 558., 507., 538., 510.,\n",
       "        361., 399., 256., 233., 172., 110.,  99.,  87.,  45.,  33.,  26.,\n",
       "         20.,   9.,   6.,   5.,   2.,   4.]),\n",
       " array([-8.49072742, -8.18146067, -7.87219391, -7.56292715, -7.25366039,\n",
       "        -6.94439363, -6.63512688, -6.32586012, -6.01659336, -5.7073266 ,\n",
       "        -5.39805984, -5.08879309, -4.77952633, -4.47025957, -4.16099281,\n",
       "        -3.85172606, -3.5424593 , -3.23319254, -2.92392578, -2.61465902,\n",
       "        -2.30539227, -1.99612551, -1.68685875, -1.37759199, -1.06832523,\n",
       "        -0.75905848, -0.44979172, -0.14052496,  0.1687418 ,  0.47800856,\n",
       "         0.78727531,  1.09654207,  1.40580883,  1.71507559,  2.02434235,\n",
       "         2.3336091 ,  2.64287586,  2.95214262,  3.26140938,  3.57067614,\n",
       "         3.87994289,  4.18920965,  4.49847641,  4.80774317,  5.11700993,\n",
       "         5.42627668,  5.73554344,  6.0448102 ,  6.35407696,  6.66334372,\n",
       "         6.97261047]),\n",
       " <BarContainer object of 50 artists>)"
      ]
     },
     "execution_count": 400,
     "metadata": {},
     "output_type": "execute_result"
    },
    {
     "data": {
      "image/png": "[encoded data removed]",
      "text/plain": [
       "<Figure size 640x480 with 1 Axes>"
      ]
     },
     "metadata": {},
     "output_type": "display_data"
    }
   ],
   "source": [
    "plt.hist((emb.view((-1, block_size*dims)) @ W1 + b1).view(-1).tolist(), bins=50)"
   ]
  },
  {
   "cell_type": "markdown",
   "metadata": {},
   "source": [
    "### Function to generate a new word based using current model"
   ]
  },
  {
   "cell_type": "code",
   "execution_count": 401,
   "metadata": {},
   "outputs": [],
   "source": [
    "def generate():\n",
    "    op = []\n",
    "    context = [0] * block_size\n",
    "    while True:\n",
    "        emb = C[torch.tensor([context])]\n",
    "        h = torch.tanh(emb.view(1, -1) @ W1 + b1)\n",
    "        logits = h @ W2 + b2\n",
    "        probs = F.softmax(logits, dim=1)\n",
    "        # print(probs)\n",
    "        nxti = torch.multinomial(probs, num_samples=1).item()\n",
    "        if nxti == 0: return ''.join([itoc[x] for x in op])\n",
    "        context = context[1:] + [nxti]\n",
    "        op.append(nxti)"
   ]
  },
  {
   "cell_type": "markdown",
   "metadata": {},
   "source": [
    "### Generate and print 20 samples"
   ]
  },
  {
   "cell_type": "code",
   "execution_count": 402,
   "metadata": {},
   "outputs": [
    {
     "name": "stdout",
     "output_type": "stream",
     "text": [
      "gaz\n",
      "siscolly\n",
      "kamlarsh\n",
      "koldgerthonsommarcy\n",
      "pren\n",
      "khirly\n",
      "clmishakinmc\n",
      "gmancaanylvahnay\n",
      "handrughann\n",
      "bapcodellastynn\n",
      "jjonnchlynn\n",
      "kamrcomnsi\n",
      "zaydestmyannanednestanyscharkelannon\n",
      "zamnaqu\n",
      "thanfimzavingchlamyylex\n",
      "skyry\n",
      "graczrahazakingaivegshyle\n",
      "strijocmanyanzakyustorr\n",
      "zah\n",
      "cjarmonnon\n"
     ]
    }
   ],
   "source": [
    "for _ in range(20): print(generate())"
   ]
  }
 ],
 "metadata": {
  "kernelspec": {
   "display_name": "Python 3",
   "language": "python",
   "name": "python3"
  },
  "language_info": {
   "codemirror_mode": {
    "name": "ipython",
    "version": 3
   },
   "file_extension": ".py",
   "mimetype": "text/x-python",
   "name": "python",
   "nbconvert_exporter": "python",
   "pygments_lexer": "ipython3",
   "version": "3.11.7"
  }
 },
 "nbformat": 4,
 "nbformat_minor": 2
}
