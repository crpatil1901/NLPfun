{
 "cells": [
  {
   "cell_type": "markdown",
   "metadata": {},
   "source": [
    "# Language Model trained with MLP\n",
    "\n",
    "- Context window is 3 tokens wide.\n",
    "- Much superior to Bigram.\n",
    "- This implementation will be a character language model, i.e., given a sequence of characters, it will predict the next character in the sequence."
   ]
  },
  {
   "cell_type": "code",
   "execution_count": 41,
   "metadata": {},
   "outputs": [],
   "source": [
    "import torch\n",
    "import math\n",
    "import random\n",
    "import torch.nn.functional as F\n",
    "import matplotlib.pyplot as plt"
   ]
  },
  {
   "cell_type": "markdown",
   "metadata": {},
   "source": [
    "### Load 'names.txt' Dataset"
   ]
  },
  {
   "cell_type": "code",
   "execution_count": 42,
   "metadata": {},
   "outputs": [
    {
     "name": "stdout",
     "output_type": "stream",
     "text": [
      "Total Names: 32033, emma, olivia, ava, isabella, sophia, ...\n"
     ]
    }
   ],
   "source": [
    "names = open('names_all.txt', 'r').read().splitlines()\n",
    "print(f\"Total Names: {len(names)}\", *names[:5], \"...\", sep=\", \")"
   ]
  },
  {
   "cell_type": "markdown",
   "metadata": {},
   "source": [
    "### Dictionaries to convert characters to int and back"
   ]
  },
  {
   "cell_type": "code",
   "execution_count": 43,
   "metadata": {},
   "outputs": [],
   "source": [
    "ctoi = {c:i for i, c in enumerate(['.'] + sorted(list(set(''.join(names)))))}\n",
    "itoc = {i:c for c, i in ctoi.items()}\n",
    "vocab_size = len(ctoi)"
   ]
  },
  {
   "cell_type": "markdown",
   "metadata": {},
   "source": [
    "### Define Block Size\n",
    "\n",
    "It is the size of the context window. Here, 3 characters are used as it provides a good balance, according to the dataset."
   ]
  },
  {
   "cell_type": "code",
   "execution_count": 44,
   "metadata": {},
   "outputs": [],
   "source": [
    "block_size = 3"
   ]
  },
  {
   "cell_type": "markdown",
   "metadata": {},
   "source": [
    "Using a rolling window to create dataset. `.` character is used as the delimiter."
   ]
  },
  {
   "cell_type": "code",
   "execution_count": 45,
   "metadata": {},
   "outputs": [],
   "source": [
    "def build_dataset(words, block_size=block_size):\n",
    "    X = []\n",
    "    Y = []\n",
    "    for word in words:\n",
    "        context = [0] * block_size\n",
    "        for c in word + '.':\n",
    "            ci = ctoi[c]\n",
    "            X.append(context)\n",
    "            Y.append(ci)\n",
    "            context = context[1:] + [ci]\n",
    "\n",
    "    X = torch.tensor(X)\n",
    "    Y = torch.tensor(Y)\n",
    "    return X, Y\n"
   ]
  },
  {
   "cell_type": "code",
   "execution_count": 46,
   "metadata": {},
   "outputs": [],
   "source": [
    "X, Y = build_dataset(names, block_size=block_size)"
   ]
  },
  {
   "cell_type": "markdown",
   "metadata": {},
   "source": [
    "### Splitting Data into Training, Validation and Testing\n",
    "\n",
    "- Training data proportion: 80%     [`Xtrn, Ytrn`]\n",
    "- Validation data proportion: 10%   [`Xdev, Ydev`]\n",
    "- Testing data proportion: 10%      [`Xtst, Ytst`]\n",
    "\n",
    "Data is shuffled to get more accurate results when testing on Xdev / Xtst"
   ]
  },
  {
   "cell_type": "code",
   "execution_count": 47,
   "metadata": {},
   "outputs": [],
   "source": [
    "trnProp = 0.8\n",
    "valProp = 0.1\n",
    "\n",
    "n1 = int(trnProp*len(names))\n",
    "n2 = int((trnProp + valProp)*len(names))\n",
    "\n",
    "random.shuffle(names)\n",
    "\n",
    "Xtrn, Ytrn = build_dataset(names[:n1])\n",
    "Xdev, Ydev = build_dataset(names[n1:n2])\n",
    "Xtst, Ytst = build_dataset(names[n2:])"
   ]
  },
  {
   "cell_type": "code",
   "execution_count": 48,
   "metadata": {},
   "outputs": [
    {
     "data": {
      "text/plain": [
       "(torch.Size([182632]), torch.Size([22802]), torch.Size([22712]))"
      ]
     },
     "execution_count": 48,
     "metadata": {},
     "output_type": "execute_result"
    }
   ],
   "source": [
    "Ytrn.shape, Ydev.shape, Ytst.shape"
   ]
  },
  {
   "cell_type": "code",
   "execution_count": 49,
   "metadata": {},
   "outputs": [
    {
     "name": "stdout",
     "output_type": "stream",
     "text": [
      "56682\n"
     ]
    }
   ],
   "source": [
    "from typing import Any\n",
    "\n",
    "\n",
    "class Linear:\n",
    "    def __init__(self, fan_in, fan_out, bias=True):\n",
    "        self.weights = torch.randn((fan_in, fan_out)) / fan_in ** 0.5\n",
    "        self.bias = torch.zeros((fan_out)) if bias else None\n",
    "\n",
    "    def __call__(self, x):\n",
    "        self.out = x @ self.weights\n",
    "        if self.bias is not None:\n",
    "            self.out += self.bias\n",
    "        return self.out\n",
    "    \n",
    "    def parameters(self):\n",
    "        return [self.weights] + ([] if self.bias is None else [self.bias])\n",
    "    \n",
    "class BatchNorm1d:\n",
    "    '''\n",
    "    esp: small value to ensure no div by zero\n",
    "    training: update running mean and var only while training\n",
    "    '''\n",
    "    def __init__(self, dim, eps=1e-5, momentum=0.1):\n",
    "        self.eps = eps\n",
    "        self.momentum = momentum\n",
    "        self.training = True\n",
    "\n",
    "        # params\n",
    "        self.gamma = torch.ones(dim)\n",
    "        self.beta = torch.zeros(dim)\n",
    "\n",
    "        # buffers\n",
    "        self.running_mean = torch.zeros(dim)\n",
    "        self.running_var = torch.ones(dim)\n",
    "\n",
    "    def __call__(self, x):\n",
    "        if self.training:\n",
    "            xmean = x.mean(0, keepdim=True)\n",
    "            xvar = x.var(0, keepdim=True)\n",
    "        else:\n",
    "            xmean = self.running_mean\n",
    "            xvar = self.running_var\n",
    "        \n",
    "        xhat = (x - xmean) / torch.sqrt(xvar + self.eps)\n",
    "        \n",
    "        self.out = xhat * self.gamma + self.beta\n",
    "\n",
    "        # update buffers\n",
    "        if self.training:\n",
    "            with torch.no_grad():\n",
    "                self.running_mean = self.running_mean * (1-self.momentum) + xmean * self.momentum\n",
    "                self.running_var = self.running_var * (1-self.momentum) + xvar * self.momentum\n",
    "        return self.out\n",
    "    \n",
    "    def parameters(self):\n",
    "        return [self.gamma, self.beta]\n",
    "    \n",
    "class Tanh:\n",
    "    '''\n",
    "    just calculates tanh\n",
    "    '''\n",
    "    def __call__(self, x):\n",
    "        self.out = torch.tanh(x)\n",
    "        return self.out\n",
    "    \n",
    "    def parameters(self):\n",
    "        return []\n",
    "    \n",
    "dims = 15\n",
    "hidden_layer = 150\n",
    "\n",
    "C = torch.randn((vocab_size, dims))\n",
    "\n",
    "layers = [\n",
    "    Linear(dims*block_size  , hidden_layer), Tanh(),\n",
    "    Linear(hidden_layer     , hidden_layer), Tanh(),\n",
    "    Linear(hidden_layer     , hidden_layer), Tanh(),\n",
    "    Linear(hidden_layer     , vocab_size)\n",
    "]\n",
    "\n",
    "with torch.no_grad():\n",
    "    layers[-1].weights *= 0.1 # make last layer less confident\n",
    "\n",
    "    # apply gain to all other layers\n",
    "    for layer in layers[:-1]:\n",
    "        if isinstance(layer, Linear):\n",
    "            layer.weights *= 5/3\n",
    "\n",
    "parameters = [C] + [p for layer in layers for p in layer.parameters()]\n",
    "print(sum(p.nelement() for p in parameters)) # print total params\n",
    "for p in parameters:\n",
    "    p.requires_grad = True"
   ]
  },
  {
   "cell_type": "code",
   "execution_count": 50,
   "metadata": {},
   "outputs": [],
   "source": [
    "losstrn = []"
   ]
  },
  {
   "cell_type": "code",
   "execution_count": 52,
   "metadata": {},
   "outputs": [
    {
     "name": "stdout",
     "output_type": "stream",
     "text": [
      "      0 of   20000: 1.9241\n",
      "   1000 of   20000: 2.0733\n",
      "   2000 of   20000: 2.0520\n",
      "   3000 of   20000: 2.1537\n",
      "   4000 of   20000: 1.8375\n",
      "   5000 of   20000: 1.9607\n",
      "   6000 of   20000: 2.0200\n",
      "   7000 of   20000: 2.0680\n",
      "   8000 of   20000: 2.2090\n",
      "   9000 of   20000: 1.9842\n",
      "  10000 of   20000: 1.8415\n",
      "  11000 of   20000: 1.9996\n",
      "  12000 of   20000: 1.9006\n",
      "  13000 of   20000: 2.0531\n",
      "  14000 of   20000: 2.1521\n",
      "  15000 of   20000: 2.0938\n",
      "  16000 of   20000: 2.0232\n",
      "  17000 of   20000: 2.0248\n",
      "  18000 of   20000: 2.1151\n",
      "  19000 of   20000: 1.9886\n"
     ]
    }
   ],
   "source": [
    "nitr = 20000\n",
    "lrs = torch.linspace(0.1, 0.001, nitr)\n",
    "for g in range(nitr):\n",
    "    # make minibatch\n",
    "    ix = torch.randint(0, Xtrn.shape[0], (64,))\n",
    "    Xb, Yb = Xtrn[ix], Ytrn[ix] # X,Y batch\n",
    "\n",
    "    # forward pass\n",
    "    emb = C[Xtrn[ix]]\n",
    "    x = emb.view(emb.shape[0], -1) # concatenate vectors\n",
    "\n",
    "    for layer in layers:\n",
    "        x = layer(x)\n",
    "\n",
    "    loss = F.cross_entropy(x, Yb)\n",
    "    \n",
    "    # backward pass\n",
    "    for layer in layers:\n",
    "        layer.out.retain_grad()\n",
    "    for p in parameters:\n",
    "        p.grad = None\n",
    "    loss.backward()\n",
    "\n",
    "    # update\n",
    "    lr = lrs[g]\n",
    "    for p in parameters:\n",
    "        p.data += -lr * p.grad\n",
    "\n",
    "    # track stats\n",
    "    if g % 1000 == 0:\n",
    "        print(f'{g:7d} of {nitr:7d}: {loss.item():.4f}')\n",
    "    losstrn.append(loss.log10().item())"
   ]
  },
  {
   "cell_type": "markdown",
   "metadata": {},
   "source": [
    "### Plot of log loss vs iterations"
   ]
  },
  {
   "cell_type": "code",
   "execution_count": null,
   "metadata": {},
   "outputs": [
    {
     "data": {
      "text/plain": [
       "[<matplotlib.lines.Line2D at 0x1414ddfd0>]"
      ]
     },
     "execution_count": 40,
     "metadata": {},
     "output_type": "execute_result"
    },
    {
     "data": {
      "image/png": "[encoded data removed]",
      "text/plain": [
       "<Figure size 640x480 with 1 Axes>"
      ]
     },
     "metadata": {},
     "output_type": "display_data"
    }
   ],
   "source": [
    "plt.plot(losstrn)"
   ]
  },
  {
   "cell_type": "markdown",
   "metadata": {},
   "source": [
    "Function to calculate loss on given dataset"
   ]
  },
  {
   "cell_type": "code",
   "execution_count": 53,
   "metadata": {},
   "outputs": [],
   "source": [
    "@torch.no_grad\n",
    "def getloss(X, Y):\n",
    "    emb = C[X]\n",
    "    x = emb.view(emb.shape[0], -1)\n",
    "    for layer in layers:\n",
    "        x = layer(x)\n",
    "    loss = F.cross_entropy(x, Y)\n",
    "    return loss"
   ]
  },
  {
   "cell_type": "markdown",
   "metadata": {},
   "source": [
    "### Print the loss on the training, validation and testing datasets"
   ]
  },
  {
   "cell_type": "code",
   "execution_count": 54,
   "metadata": {},
   "outputs": [
    {
     "name": "stdout",
     "output_type": "stream",
     "text": [
      "Training Loss: 2.008963108062744\n",
      "Validation Loss: 2.076925039291382\n",
      "Testing Loss: 2.0731000900268555\n"
     ]
    }
   ],
   "source": [
    "print(f\"Training Loss: {getloss(Xtrn, Ytrn).item()}\")\n",
    "print(f\"Validation Loss: {getloss(Xdev, Ydev).item()}\")\n",
    "print(f\"Testing Loss: {getloss(Xtst, Ytst).item()}\")"
   ]
  }
 ],
 "metadata": {
  "kernelspec": {
   "display_name": "Python 3",
   "language": "python",
   "name": "python3"
  },
  "language_info": {
   "codemirror_mode": {
    "name": "ipython",
    "version": 3
   },
   "file_extension": ".py",
   "mimetype": "text/x-python",
   "name": "python",
   "nbconvert_exporter": "python",
   "pygments_lexer": "ipython3",
   "version": "3.11.7"
  }
 },
 "nbformat": 4,
 "nbformat_minor": 2
}
